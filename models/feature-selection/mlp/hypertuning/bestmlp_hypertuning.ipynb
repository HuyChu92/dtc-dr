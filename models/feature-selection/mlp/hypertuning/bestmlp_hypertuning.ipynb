{
 "cells": [
  {
   "cell_type": "code",
   "execution_count": 1,
   "metadata": {},
   "outputs": [],
   "source": [
    "import numpy as np\n",
    "from sklearn.datasets import make_regression\n",
    "from sklearn.model_selection import train_test_split\n",
    "from sklearn.feature_selection import SelectKBest, f_regression\n",
    "from sklearn.neural_network import MLPRegressor\n",
    "from sklearn.model_selection import GridSearchCV\n",
    "from sklearn.metrics import mean_squared_error, r2_score\n",
    "import pandas as pd\n",
    "import json"
   ]
  },
  {
   "cell_type": "code",
   "execution_count": 2,
   "metadata": {},
   "outputs": [],
   "source": [
    "with open(r\"D:\\dtc-dr\\models\\feature-selection\\mlp\\cv_scores_mlp.json\") as f:\n",
    "    cv_scores = json.load(f)\n",
    "\n",
    "target_values = [\n",
    "    \"Stage1.Output.Measurement1.U.Actual\",\n",
    "    \"Stage1.Output.Measurement7.U.Actual\",\n",
    "    \"Stage1.Output.Measurement11.U.Actual\",\n",
    "    \"FirstStage.CombinerOperation.Temperature1.U.Actual\",\n",
    "    \"FirstStage.CombinerOperation.Temperature2.U.Actual\",\n",
    "]"
   ]
  },
  {
   "cell_type": "code",
   "execution_count": 3,
   "metadata": {},
   "outputs": [],
   "source": [
    "param_grid = {\n",
    "    # 'hidden_layer_sizes': [(50,), (100,), (50, 50), (100, 100),],\n",
    "    'activation': ['relu', 'tanh'],\n",
    "    'alpha': [0.0001, 0.001, 0.01],\n",
    "}"
   ]
  },
  {
   "cell_type": "code",
   "execution_count": 4,
   "metadata": {},
   "outputs": [],
   "source": [
    "df = pd.read_csv(\n",
    "    r\"D:\\dtc-dr\\data-analyse\\continuous_factory_process.csv\", delimiter=\",\"\n",
    ")\n",
    "\n",
    "prefixes_to_match = [\"Machine1\", \"Machine2\", \"Machine3\"]\n",
    "\n",
    "filtered_columns = [\n",
    "    col\n",
    "    for col in df.columns\n",
    "    if any(col.startswith(prefix) for prefix in prefixes_to_match)\n",
    "]\n",
    "def calculate_best_regression_model():\n",
    "    results_dict = {}\n",
    "\n",
    "    for key, value in cv_scores.items():\n",
    "        if key in target_values:\n",
    "            indices = value[\"indices\"]\n",
    "            X = []\n",
    "            for index, value in enumerate(indices):\n",
    "                X.append(filtered_columns[value])\n",
    "            X = df[X]   \n",
    "            y = df[key]\n",
    "            X_train, X_test, y_train, y_test = train_test_split(\n",
    "            X, y, test_size=0.2, random_state=42\n",
    "    )\n",
    "            mlp = MLPRegressor()\n",
    "            grid_search = GridSearchCV(mlp, param_grid, cv=5, scoring='neg_mean_squared_error', n_jobs=-1)\n",
    "\n",
    "            # Fit the model to the training data\n",
    "            grid_search.fit(X_train, y_train)\n",
    "\n",
    "            # Make predictions on both the training and test sets\n",
    "            y_train_pred = grid_search.predict(X_train)\n",
    "            y_test_pred = grid_search.predict(X_test)\n",
    "\n",
    "            # Calculate R2 score for training and test sets\n",
    "            r2_train = r2_score(y_train, y_train_pred)\n",
    "            r2_test = r2_score(y_test, y_test_pred)\n",
    "\n",
    "            # Calculate RMSE for training and test sets\n",
    "            rmse_train = np.sqrt(mean_squared_error(y_train, y_train_pred))\n",
    "            rmse_test = np.sqrt(mean_squared_error(y_test, y_test_pred))\n",
    "\n",
    "            # Calculate MSE for training and test sets\n",
    "            mse_train = mean_squared_error(y_train, y_train_pred)\n",
    "            mse_test = mean_squared_error(y_test, y_test_pred)\n",
    "\n",
    "            results_dict[key] = {\n",
    "                \"r2_train\": r2_train,\n",
    "                \"r2_test\": r2_test,\n",
    "                \"rmse_train\": rmse_train,\n",
    "                \"rmse_test\": rmse_test,\n",
    "                \"mse_train\": mse_train,\n",
    "                \"mse_test\": mse_test,\n",
    "            }\n",
    "    return results_dict\n",
    "     \n",
    "\n",
    "results = calculate_best_regression_model()\n",
    "# Save the results to a JSON file\n",
    "with open('MLP_hyperparametertuning_results.json', 'w') as json_file:\n",
    "    json.dump(results, json_file, indent=4)\n"
   ]
  }
 ],
 "metadata": {
  "kernelspec": {
   "display_name": "env",
   "language": "python",
   "name": "python3"
  },
  "language_info": {
   "codemirror_mode": {
    "name": "ipython",
    "version": 3
   },
   "file_extension": ".py",
   "mimetype": "text/x-python",
   "name": "python",
   "nbconvert_exporter": "python",
   "pygments_lexer": "ipython3",
   "version": "3.10.9"
  }
 },
 "nbformat": 4,
 "nbformat_minor": 2
}
