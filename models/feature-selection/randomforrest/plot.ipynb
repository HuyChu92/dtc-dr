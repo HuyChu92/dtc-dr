{
 "cells": [
  {
   "cell_type": "code",
   "execution_count": null,
   "metadata": {},
   "outputs": [],
   "source": [
    "import matplotlib.pyplot as plt\n",
    "import numpy as np\n",
    "import json\n",
    "\n",
    "# Open and read the JSON file\n",
    "with open(r'D:\\dtc-dr\\models\\feature-selection\\combined_results_23012024.json', 'r') as file:\n",
    "    # Parse the JSON content\n",
    "    result = json.load(file)\n",
    "\n",
    "\n",
    "# Assuming 'features' is a list of feature names\n",
    "features = [key for key, value in result.items()]\n",
    "r2_train_scores = [value[\"decision_tree\"][0] for key, value in result.items()]\n",
    "r2_test_scores = [value[\"decision_tree\"][1] for key, value in result.items()]\n",
    "\n",
    "# Set the width of the bars\n",
    "bar_width = 0.35\n",
    "\n",
    "# Set the positions of the bars on X-axis\n",
    "r1 = np.arange(len(features))\n",
    "r2 = [x + bar_width for x in r1]\n",
    "\n",
    "# Increase the height of the chart by adjusting figsize\n",
    "plt.figure(figsize=(14, 8))  # Adjust the height and width\n",
    "\n",
    "# Plotting the bar chart\n",
    "plt.bar(r1, r2_train_scores, color='b', width=bar_width, edgecolor='grey', label='R2 Train Scores')\n",
    "plt.bar(r2, r2_test_scores, color='r', width=bar_width, edgecolor='grey', label='R2 Test Scores')\n",
    "\n",
    "# Adding labels and title\n",
    "plt.xlabel('Features', fontweight='bold')\n",
    "plt.ylabel('R2 Scores', fontweight='bold')\n",
    "plt.title('R2 Scores for Different Features', fontweight='bold')\n",
    "\n",
    "# Rotating x-axis labels counterclockwise\n",
    "plt.xticks([r + bar_width/2 for r in range(len(features))], features, rotation=-45, ha='left', fontsize=10)\n",
    "\n",
    "# Adding legend\n",
    "plt.legend()\n",
    "\n",
    "# Adjusting layout to prevent label overlapping\n",
    "plt.tight_layout()\n",
    "\n",
    "# Display the plot\n",
    "plt.show()\n"
   ]
  }
 ],
 "metadata": {
  "language_info": {
   "name": "python"
  }
 },
 "nbformat": 4,
 "nbformat_minor": 2
}
