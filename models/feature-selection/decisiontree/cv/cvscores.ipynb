{
 "cells": [
  {
   "cell_type": "code",
   "execution_count": null,
   "metadata": {},
   "outputs": [],
   "source": [
    "import json\n",
    "import numpy as np\n",
    "from sklearn.model_selection import train_test_split\n",
    "from sklearn.feature_selection import SelectKBest, f_regression\n",
    "from sklearn.tree import DecisionTreeRegressor\n",
    "from sklearn.metrics import r2_score\n",
    "import pandas as pd\n",
    "import json\n",
    "\n",
    "with open(r'D:\\dtc-dr\\models\\feature-selection\\decisiontree\\test_decision_tree_results.json', 'r') as json_file:\n",
    "    # Load the JSON data\n",
    "    json_data = json.load(json_file)"
   ]
  },
  {
   "cell_type": "code",
   "execution_count": 3,
   "metadata": {},
   "outputs": [
    {
     "name": "stdout",
     "output_type": "stream",
     "text": [
      "Stage1.Output.Measurement0.U.Actual\n",
      "Stage1.Output.Measurement1.U.Actual\n",
      "Stage1.Output.Measurement2.U.Actual\n",
      "Stage1.Output.Measurement3.U.Actual\n",
      "Stage1.Output.Measurement4.U.Actual\n",
      "Stage1.Output.Measurement5.U.Actual\n",
      "Stage1.Output.Measurement6.U.Actual\n",
      "Stage1.Output.Measurement7.U.Actual\n",
      "Stage1.Output.Measurement8.U.Actual\n",
      "Stage1.Output.Measurement9.U.Actual\n",
      "Stage1.Output.Measurement10.U.Actual\n",
      "Stage1.Output.Measurement11.U.Actual\n",
      "Stage1.Output.Measurement12.U.Actual\n",
      "Stage1.Output.Measurement13.U.Actual\n",
      "Stage1.Output.Measurement14.U.Actual\n",
      "FirstStage.CombinerOperation.Temperature1.U.Actual\n",
      "FirstStage.CombinerOperation.Temperature2.U.Actual\n",
      "FirstStage.CombinerOperation.Temperature3.C.Actual\n"
     ]
    }
   ],
   "source": [
    "for key, value in json_data.items(): \n",
    "    print(key)"
   ]
  }
 ],
 "metadata": {
  "kernelspec": {
   "display_name": "env",
   "language": "python",
   "name": "python3"
  },
  "language_info": {
   "codemirror_mode": {
    "name": "ipython",
    "version": 3
   },
   "file_extension": ".py",
   "mimetype": "text/x-python",
   "name": "python",
   "nbconvert_exporter": "python",
   "pygments_lexer": "ipython3",
   "version": "3.10.9"
  }
 },
 "nbformat": 4,
 "nbformat_minor": 2
}
