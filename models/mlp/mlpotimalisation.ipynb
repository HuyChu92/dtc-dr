{
 "cells": [
  {
   "cell_type": "code",
   "execution_count": 3,
   "metadata": {},
   "outputs": [
    {
     "name": "stdout",
     "output_type": "stream",
     "text": [
      "Best hyperparameters for MLP: {'activation': 'tanh', 'alpha': 0.0001, 'hidden_layer_sizes': (100,), 'learning_rate': 'adaptive'}\n",
      "Cross-validated R-squared scores for MLP with tuned hyperparameters: [0.75779317 0.72172634 0.62415145 0.67580437 0.76259452]\n"
     ]
    }
   ],
   "source": [
    "from sklearn.neural_network import MLPRegressor\n",
    "from sklearn.model_selection import GridSearchCV\n",
    "from sklearn.model_selection import train_test_split, cross_val_score, KFold\n",
    "import pandas as pd\n",
    "\n",
    "\n",
    "df = pd.read_csv(r\"D:\\dtc-dr\\data-analyse\\continuous_factory_process.csv\", delimiter=\",\")\n",
    "prefixes_to_match = [\"Machine1\", \"Machine2\", \"Machine3\"]\n",
    "\n",
    "filtered_columns = [\n",
    "    col\n",
    "    for col in df.columns\n",
    "    if any(col.startswith(prefix) for prefix in prefixes_to_match)\n",
    "]\n",
    "\n",
    "# Assuming X_train and y_train are your training data\n",
    "\n",
    "X = df[filtered_columns]\n",
    "\n",
    "best_indexes = [0, 3, 7, 8, 24, 25, 26, 27, 32]\n",
    "\n",
    "X = [X.columns.tolist()[index] for index in best_indexes]\n",
    "X = df[X]\n",
    "\n",
    "X.columns.tolist()\n",
    "\n",
    "Y = df['Stage1.Output.Measurement1.U.Actual']\n",
    "\n",
    "# Split the data into training and testing sets\n",
    "X_train, X_test, y_train, y_test = train_test_split(X, Y, test_size=0.2, random_state=42)\n",
    "# Define the parameter grid to search\n",
    "param_grid = {\n",
    "    'hidden_layer_sizes': [(100,), (50, 50), (100, 50, 25)],  # Example values, adjust as needed\n",
    "    'activation': ['relu', 'tanh'],\n",
    "    'alpha': [0.0001, 0.001, 0.01],\n",
    "    'learning_rate': ['constant', 'invscaling', 'adaptive']\n",
    "}\n",
    "\n",
    "# Create the MLP regressor\n",
    "mlp_regr = MLPRegressor(max_iter=1000)  # You can adjust max_iter based on your needs\n",
    "\n",
    "# Create the GridSearchCV object\n",
    "grid_search = GridSearchCV(mlp_regr, param_grid, cv=5, scoring='r2', n_jobs=-1)\n",
    "\n",
    "# Fit the model to the data\n",
    "grid_search.fit(X_train, y_train)\n",
    "\n",
    "# Get the best parameters and the best estimator\n",
    "best_params = grid_search.best_params_\n",
    "best_mlp_regr = grid_search.best_estimator_\n",
    "\n",
    "# Print the best parameters\n",
    "print(\"Best hyperparameters for MLP:\", best_params)\n",
    "\n",
    "# Now you can use the best estimator for further analysis\n",
    "# Example:\n",
    "r2_scores_cv = cross_val_score(best_mlp_regr, X_train, y_train, cv=5, scoring='r2')\n",
    "print(\"Cross-validated R-squared scores for MLP with tuned hyperparameters:\", r2_scores_cv)\n"
   ]
  }
 ],
 "metadata": {
  "kernelspec": {
   "display_name": "env",
   "language": "python",
   "name": "python3"
  },
  "language_info": {
   "codemirror_mode": {
    "name": "ipython",
    "version": 3
   },
   "file_extension": ".py",
   "mimetype": "text/x-python",
   "name": "python",
   "nbconvert_exporter": "python",
   "pygments_lexer": "ipython3",
   "version": "3.10.9"
  }
 },
 "nbformat": 4,
 "nbformat_minor": 2
}
