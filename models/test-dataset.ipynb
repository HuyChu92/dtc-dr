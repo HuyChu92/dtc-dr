{
 "cells": [
  {
   "cell_type": "code",
   "execution_count": 10,
   "metadata": {},
   "outputs": [
    {
     "name": "stdout",
     "output_type": "stream",
     "text": [
      "X_test shape: (2818, 36)\n"
     ]
    }
   ],
   "source": [
    "import pandas as pd\n",
    "from sklearn.model_selection import train_test_split\n",
    "\n",
    "df = pd.read_csv(r\"D:\\dtc-dr\\data-analyse\\continuous_factory_process.csv\", delimiter=\",\")\n",
    "\n",
    "# Specify the list of prefixes you want to filter\n",
    "prefixes_to_match = ['Machine1', 'Machine2' , 'Machine3', 'time_stamp']\n",
    "\n",
    "# Use list comprehension to filter columns based on prefixes\n",
    "filtered_columns = [col for col in df.columns if any(col.startswith(prefix) for prefix in prefixes_to_match)]\n",
    "\n",
    "# Create a new DataFrame with the selected columns\n",
    "result_df = df[filtered_columns]\n",
    "result_df\n",
    "\n",
    "X = result_df.drop('time_stamp', axis=1)  # Features (independent variables)\n",
    "y = result_df  # Target variable (dependent variable)\n",
    "\n",
    "X_train, X_test, y_train, y_test = train_test_split(X, y, test_size=0.2, random_state=42)\n",
    "\n",
    "# Display the shapes of the resulting sets\n",
    "print(\"X_test shape:\", X_test.shape)\n",
    "# X_test.to_excel(\"test-data.xlsx\")"
   ]
  },
  {
   "cell_type": "code",
   "execution_count": 12,
   "metadata": {},
   "outputs": [],
   "source": [
    "import json\n",
    "\n",
    "columns = X_test.columns.tolist()\n",
    "columns\n",
    "\n",
    "output = [] # creeer een output waar voor iedere rij een dictionary wordt gemaakt en voeg toe\n",
    "\n",
    "for key, value in X_test.iterrows():\n",
    "    row = {}\n",
    "    for col in columns:\n",
    "        row[col] = value[col]\n",
    "    \n",
    "    output.append(row)\n",
    "\n",
    "with open('json_test_data.json', 'w') as json_file:\n",
    "    json.dump(output, json_file)"
   ]
  }
 ],
 "metadata": {
  "kernelspec": {
   "display_name": "base",
   "language": "python",
   "name": "python3"
  },
  "language_info": {
   "codemirror_mode": {
    "name": "ipython",
    "version": 3
   },
   "file_extension": ".py",
   "mimetype": "text/x-python",
   "name": "python",
   "nbconvert_exporter": "python",
   "pygments_lexer": "ipython3",
   "version": "3.11.3"
  }
 },
 "nbformat": 4,
 "nbformat_minor": 2
}
