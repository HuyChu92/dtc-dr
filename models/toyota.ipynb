{
 "cells": [
  {
   "cell_type": "code",
   "execution_count": 7,
   "metadata": {},
   "outputs": [
    {
     "data": {
      "text/plain": [
       "array([[-1.73072277,  0.76376268, -1.77196633, ..., -0.05285164,\n",
       "        -0.14853975, -0.04575489],\n",
       "       [-1.72832084,  0.83271485, -1.77196633, ..., -0.05285164,\n",
       "        -0.14853975, -0.04575489],\n",
       "       [-1.72591891,  0.88787659, -1.71818412, ..., -0.05285164,\n",
       "        -0.14853975, -0.04575489],\n",
       "       ...,\n",
       "       [ 1.72565463, -0.6152808 ,  0.80957948, ..., -0.05285164,\n",
       "        -0.14853975, -0.04575489],\n",
       "       [ 1.72805656, -0.96004167,  0.75579727, ..., -0.05285164,\n",
       "        -0.14853975, -0.04575489],\n",
       "       [ 1.73045849, -1.04278428,  1.0784905 , ..., -0.05285164,\n",
       "        -0.14853975, -0.04575489]])"
      ]
     },
     "execution_count": 7,
     "metadata": {},
     "output_type": "execute_result"
    }
   ],
   "source": [
    "import pandas as pd\n",
    "from sklearn.preprocessing import StandardScaler\n",
    "\n",
    "df = pd.read_excel(r'D:\\dtc-dr\\digitaltwins\\api\\datasets\\ToyotaCorolla.xlsx', sheet_name='data')\n",
    "df\n",
    "df_dummies = pd.get_dummies(df, drop_first=False)\n",
    "df_dummies.replace({True: 1, False: 0}, inplace=True)\n",
    "scaler = StandardScaler()\n",
    "df = scaler.fit_transform(df_dummies)\n",
    "df"
   ]
  }
 ],
 "metadata": {
  "kernelspec": {
   "display_name": "env",
   "language": "python",
   "name": "python3"
  },
  "language_info": {
   "codemirror_mode": {
    "name": "ipython",
    "version": 3
   },
   "file_extension": ".py",
   "mimetype": "text/x-python",
   "name": "python",
   "nbconvert_exporter": "python",
   "pygments_lexer": "ipython3",
   "version": "3.10.9"
  }
 },
 "nbformat": 4,
 "nbformat_minor": 2
}
