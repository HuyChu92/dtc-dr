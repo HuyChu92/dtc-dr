{
 "cells": [
  {
   "cell_type": "code",
   "execution_count": 16,
   "metadata": {},
   "outputs": [
    {
     "name": "stdout",
     "output_type": "stream",
     "text": [
      "Mean Squared Error: 0.9336073501106869\n",
      "R-squared: 0.057133771853288606\n"
     ]
    },
    {
     "name": "stderr",
     "output_type": "stream",
     "text": [
      "c:\\Users\\huy_c\\anaconda3\\Lib\\site-packages\\sklearn\\utils\\validation.py:1143: DataConversionWarning: A column-vector y was passed when a 1d array was expected. Please change the shape of y to (n_samples, ), for example using ravel().\n",
      "  y = column_or_1d(y, warn=True)\n"
     ]
    }
   ],
   "source": [
    "from sklearn.feature_selection import SelectKBest, f_regression\n",
    "from sklearn.linear_model import LinearRegression\n",
    "from sklearn.model_selection import train_test_split\n",
    "from sklearn.preprocessing import StandardScaler\n",
    "from sklearn.metrics import mean_squared_error, r2_score\n",
    "import pandas as pd\n",
    "\n",
    "# Your data loading and preprocessing code remains the same...\n",
    "df = pd.read_csv(\n",
    "    r\"D:\\dtc-dr\\data-analyse\\continuous_factory_process.csv\", delimiter=\",\"\n",
    ")\n",
    "df = df.drop(\"time_stamp\", axis=1)\n",
    "\n",
    "prefixes_to_match = [\"Machine1\", \"Machine2\", \"Machine3\", \"time_stamp\"]\n",
    "filtered_columns = [\n",
    "    col\n",
    "    for col in df.columns\n",
    "    if any(col.startswith(prefix) for prefix in prefixes_to_match)\n",
    "]\n",
    "X = df[filtered_columns]\n",
    "\n",
    "y = df[\n",
    "    [\n",
    "        \"Stage1.Output.Measurement2.U.Actual\",\n",
    "    ]\n",
    "]\n",
    "\n",
    "# Split the data into training and testing sets\n",
    "X_train, X_test, y_train, y_test = train_test_split(\n",
    "    X, y, test_size=0.2, random_state=42\n",
    ")\n",
    "\n",
    "# Specify the number of features to select (k) \n",
    "k_best_features = 5\n",
    "\n",
    "# Create the SelectKBest object with the f_regression score function\n",
    "selector = SelectKBest(score_func=f_regression, k=k_best_features)\n",
    "\n",
    "# Standardize the features\n",
    "scaler = StandardScaler()\n",
    "X_train_std = scaler.fit_transform(X_train)\n",
    "X_test_std = scaler.transform(X_test)\n",
    "\n",
    "# Fit the selector on the training data and transform both the training and testing data\n",
    "X_train_selected = selector.fit_transform(X_train_std, y_train)\n",
    "X_test_selected = selector.transform(X_test_std)\n",
    "\n",
    "# Reshape the target variables to 2D arrays\n",
    "y_train_reshaped = y_train.values.reshape(-1, 1)\n",
    "y_test_reshaped = y_test.values.reshape(-1, 1)\n",
    "\n",
    "# Create linear regression models for each target variable\n",
    "models = []\n",
    "for col in y.columns:\n",
    "    model = LinearRegression()\n",
    "    model.fit(X_train_selected, y_train[col])\n",
    "    models.append(model)\n",
    "\n",
    "# Make predictions on the testing set\n",
    "y_pred = pd.DataFrame(\n",
    "    {\n",
    "        col: model.predict(X_test_selected).reshape(-1)\n",
    "        for col, model in zip(y.columns, models)\n",
    "    }\n",
    ")\n",
    "\n",
    "# Evaluate the model\n",
    "mse = mean_squared_error(y_test, y_pred)\n",
    "r2 = r2_score(y_test, y_pred)\n",
    "\n",
    "print(f\"Mean Squared Error: {mse}\")\n",
    "print(f\"R-squared: {r2}\")\n"
   ]
  }
 ],
 "metadata": {
  "kernelspec": {
   "display_name": "base",
   "language": "python",
   "name": "python3"
  },
  "language_info": {
   "codemirror_mode": {
    "name": "ipython",
    "version": 3
   },
   "file_extension": ".py",
   "mimetype": "text/x-python",
   "name": "python",
   "nbconvert_exporter": "python",
   "pygments_lexer": "ipython3",
   "version": "3.11.3"
  }
 },
 "nbformat": 4,
 "nbformat_minor": 2
}
