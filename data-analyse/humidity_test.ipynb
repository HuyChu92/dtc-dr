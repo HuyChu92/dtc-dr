{
 "cells": [
  {
   "cell_type": "code",
   "execution_count": 1,
   "metadata": {},
   "outputs": [],
   "source": [
    "import pandas as pd"
   ]
  },
  {
   "cell_type": "code",
   "execution_count": 2,
   "metadata": {},
   "outputs": [],
   "source": [
    "csv_file_path = 'continuous_factory_process.csv'\n",
    "df = pd.read_csv(csv_file_path)"
   ]
  },
  {
   "cell_type": "code",
   "execution_count": 3,
   "metadata": {},
   "outputs": [],
   "source": [
    "humidity_values = df['AmbientConditions.AmbientHumidity.U.Actual'].unique()\n",
    "temperature_values = df['AmbientConditions.AmbientTemperature.U.Actual'].unique()"
   ]
  },
  {
   "cell_type": "code",
   "execution_count": 4,
   "metadata": {},
   "outputs": [],
   "source": [
    "humidity_type = 'relatief' if '%' in humidity_values else 'absoluut'\n",
    "temperature_type = 'relatief' if '°C' in temperature_values else 'absoluut'"
   ]
  },
  {
   "cell_type": "code",
   "execution_count": 5,
   "metadata": {},
   "outputs": [
    {
     "name": "stdout",
     "output_type": "stream",
     "text": [
      "Type van AmbientConditions.AmbientHumidity.U.Actual: absoluut\n",
      "Type van AmbientConditions.AmbientTemperature.U.Actual: absoluut\n"
     ]
    }
   ],
   "source": [
    "print(f'Type van AmbientConditions.AmbientHumidity.U.Actual: {humidity_type}')\n",
    "print(f'Type van AmbientConditions.AmbientTemperature.U.Actual: {temperature_type}')"
   ]
  }
 ],
 "metadata": {
  "kernelspec": {
   "display_name": "env",
   "language": "python",
   "name": "python3"
  },
  "language_info": {
   "codemirror_mode": {
    "name": "ipython",
    "version": 3
   },
   "file_extension": ".py",
   "mimetype": "text/x-python",
   "name": "python",
   "nbconvert_exporter": "python",
   "pygments_lexer": "ipython3",
   "version": "3.12.0"
  }
 },
 "nbformat": 4,
 "nbformat_minor": 2
}
